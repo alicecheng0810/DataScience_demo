{
 "metadata": {
  "name": "Tree and Random Forest"
 },
 "nbformat": 3,
 "nbformat_minor": 0,
 "worksheets": [
  {
   "cells": [
    {
     "cell_type": "code",
     "collapsed": false,
     "input": "from sklearn.datasets import fetch_20newsgroups\n\n# We will use four of the twenty newsgroups\ncategories = ['alt.atheism',\n              'talk.religion.misc',\n              'comp.graphics',\n              'sci.space']\n\ntwenty_train_subset = fetch_20newsgroups(subset='train', categories=categories)\ntwenty_test_subset = fetch_20newsgroups(subset='test', categories=categories)",
     "language": "python",
     "metadata": {},
     "outputs": [
      {
       "output_type": "stream",
       "stream": "stderr",
       "text": "No handlers could be found for logger \"sklearn.datasets.twenty_newsgroups\"\n"
      }
     ],
     "prompt_number": 1
    },
    {
     "cell_type": "code",
     "collapsed": false,
     "input": "twenty_train_subset?\n",
     "language": "python",
     "metadata": {},
     "outputs": [],
     "prompt_number": 4
    },
    {
     "cell_type": "code",
     "collapsed": false,
     "input": "twenty_test_subset?",
     "language": "python",
     "metadata": {},
     "outputs": [],
     "prompt_number": 5
    },
    {
     "cell_type": "code",
     "collapsed": false,
     "input": "from sklearn.feature_extraction.text import CountVectorizer\nfrom sklearn.feature_extraction.text import TfidfVectorizer\n\n# Turn the text documents into vectors of word frequencies\nvectorizer = CountVectorizer()\nX_train = vectorizer.fit_transform(twenty_train_subset.data)",
     "language": "python",
     "metadata": {},
     "outputs": [],
     "prompt_number": 6
    },
    {
     "cell_type": "code",
     "collapsed": false,
     "input": "X_train\n",
     "language": "python",
     "metadata": {},
     "outputs": [
      {
       "metadata": {},
       "output_type": "pyout",
       "prompt_number": 13,
       "text": "<2034x688611 sparse matrix of type '<type 'numpy.int64'>'\n\twith 1437560 stored elements in Compressed Sparse Column format>"
      }
     ],
     "prompt_number": 13
    },
    {
     "cell_type": "code",
     "collapsed": false,
     "input": "vectorizer = CountVectorizer(ngram_range=(1,3))\n",
     "language": "python",
     "metadata": {},
     "outputs": [],
     "prompt_number": 10
    },
    {
     "cell_type": "code",
     "collapsed": false,
     "input": "X_train = vectorizer.fit_transform(twenty_train_subset.data)",
     "language": "python",
     "metadata": {},
     "outputs": [],
     "prompt_number": 11
    },
    {
     "cell_type": "code",
     "collapsed": false,
     "input": "",
     "language": "python",
     "metadata": {},
     "outputs": [],
     "prompt_number": 11
    },
    {
     "cell_type": "code",
     "collapsed": false,
     "input": "X_train",
     "language": "python",
     "metadata": {},
     "outputs": [
      {
       "metadata": {},
       "output_type": "pyout",
       "prompt_number": 12,
       "text": "<2034x688611 sparse matrix of type '<type 'numpy.int64'>'\n\twith 1437560 stored elements in Compressed Sparse Column format>"
      }
     ],
     "prompt_number": 12
    },
    {
     "cell_type": "code",
     "collapsed": false,
     "input": "vectorizer = TfidfVectorizer()\n",
     "language": "python",
     "metadata": {},
     "outputs": [],
     "prompt_number": 14
    },
    {
     "cell_type": "code",
     "collapsed": false,
     "input": "X_train = vectorizer.fit_transform(twenty_train_subset.data)\n",
     "language": "python",
     "metadata": {},
     "outputs": [],
     "prompt_number": 39
    },
    {
     "cell_type": "code",
     "collapsed": false,
     "input": "X_test = vectorizer.transform(twenty_test_subset.data)\n",
     "language": "python",
     "metadata": {},
     "outputs": [],
     "prompt_number": 40
    },
    {
     "cell_type": "code",
     "collapsed": false,
     "input": "vectorizer = TfidfVectorizer(stop_words='english', ngram_range=(1,5))\nX_train = vectorizer.fit_transform(twenty_train_subset.data)",
     "language": "python",
     "metadata": {},
     "outputs": [],
     "prompt_number": 16
    },
    {
     "cell_type": "code",
     "collapsed": false,
     "input": "from sklearn.ensemble import RandomForestClassifier\n\nmodel = RandomForestClassifier(n_estimators=10)\nmodel.fit(X_train.toarray(),twenty_train_subset.target) # as usual",
     "language": "python",
     "metadata": {},
     "outputs": [
      {
       "metadata": {},
       "output_type": "pyout",
       "prompt_number": 23,
       "text": "RandomForestClassifier(bootstrap=True, compute_importances=None,\n            criterion='gini', max_depth=None, max_features='auto',\n            min_density=None, min_samples_leaf=1, min_samples_split=2,\n            n_estimators=10, n_jobs=1, oob_score=False, random_state=None,\n            verbose=0)"
      }
     ],
     "prompt_number": 23
    },
    {
     "cell_type": "code",
     "collapsed": false,
     "input": "model.predict(X_train.toarray())\n\nmodel.score(X_test.toarray(),twenty_test_subset.target)",
     "language": "python",
     "metadata": {},
     "outputs": [
      {
       "metadata": {},
       "output_type": "pyout",
       "prompt_number": 41,
       "text": "0.77753141167775319"
      }
     ],
     "prompt_number": 41
    },
    {
     "cell_type": "code",
     "collapsed": false,
     "input": "from sklearn.cross_validation import cross_val_score\nfrom sklearn.tree import DecisionTreeClassifier\n\nvectorizer = TfidfVectorizer(stop_words='english')\nX_train = vectorizer.fit_transform(twenty_train_subset.data)\n\ntree_model = DecisionTreeClassifier()\nprint cross_val_score(tree_model, X_train.toarray(), twenty_train_subset.target)\n\nrf_model = RandomForestClassifier(n_estimators=20)\nprint cross_val_score(rf_model, X_train.toarray(), twenty_train_subset.target)",
     "language": "python",
     "metadata": {},
     "outputs": [
      {
       "output_type": "stream",
       "stream": "stdout",
       "text": "[ 0.78908555  0.79056047  0.81268437]\n[ 0.85545723  0.83923304  0.85545723]"
      },
      {
       "output_type": "stream",
       "stream": "stdout",
       "text": "\n"
      }
     ],
     "prompt_number": 19
    },
    {
     "cell_type": "code",
     "collapsed": false,
     "input": "rf_model = RandomForestClassifier(n_estimators=10, compute_importances=True)\nrf_model.fit(X_train.toarray(), twenty_train_subset.target)\n\n# This prints the top 10 most important features\nprint sorted(zip(rf_model.feature_importances_, vectorizer.get_feature_names()), reverse=True)[:20]",
     "language": "python",
     "metadata": {},
     "outputs": [
      {
       "output_type": "stream",
       "stream": "stdout",
       "text": "[(0.022599653236402902, u'space'), (0.021405470858684123, u'atheists'), (0.011491119788711391, u'orbit'), (0.01065579158515711, u'keith'), (0.0098981276289504504, u'moon'), (0.009478128622855353, u'christian'), (0.0084496381583656667, u'prb'), (0.0078045718406246928, u'god'), (0.0076614517186710061, u'islamic'), (0.0070382802130900535, u'graphics'), (0.0069648260095272916, u'bible'), (0.0068156202502764581, u'atheism'), (0.0066120944017138998, u'sci'), (0.0057672244974533325, u'thanks'), (0.0056922888235329764, u'earth'), (0.0053319401837658102, u'program'), (0.0051842248848205739, u'zoo'), (0.0050901993042740097, u'kent'), (0.0049507620656509691, u'jesus'), (0.0049124321412937471, u'alaska')]\n"
      },
      {
       "output_type": "stream",
       "stream": "stderr",
       "text": "/Users/yifanli/anaconda/lib/python2.7/site-packages/sklearn/ensemble/forest.py:783: DeprecationWarning: Setting compute_importances is no longer required as version 0.14. Variable importances are now computed on the fly when accessing the feature_importances_ attribute. This parameter will be removed in 0.16.\n  DeprecationWarning)\n"
      }
     ],
     "prompt_number": 20
    },
    {
     "cell_type": "code",
     "collapsed": false,
     "input": "",
     "language": "python",
     "metadata": {},
     "outputs": []
    }
   ],
   "metadata": {}
  }
 ]
}